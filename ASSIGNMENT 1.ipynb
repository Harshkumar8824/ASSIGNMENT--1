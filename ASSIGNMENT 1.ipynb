{
 "cells": [
  {
   "cell_type": "code",
   "execution_count": 8,
   "id": "9a6ead53",
   "metadata": {},
   "outputs": [],
   "source": [
    "import pandas as pd"
   ]
  },
  {
   "cell_type": "code",
   "execution_count": 9,
   "id": "90d99238",
   "metadata": {},
   "outputs": [
    {
     "name": "stdout",
     "output_type": "stream",
     "text": [
      "The Mean is:\n",
      " Id               75.500000\n",
      "SepalLengthCm     5.843333\n",
      "SepalWidthCm      3.054000\n",
      "PetalLengthCm     3.758667\n",
      "PetalWidthCm      1.198667\n",
      "dtype: float64\n",
      "The Median is:\n",
      " Id               75.50\n",
      "SepalLengthCm     5.80\n",
      "SepalWidthCm      3.00\n",
      "PetalLengthCm     4.35\n",
      "PetalWidthCm      1.30\n",
      "dtype: float64\n",
      "The Mode is:\n",
      "       Id  SepalLengthCm  SepalWidthCm  PetalLengthCm  PetalWidthCm  \\\n",
      "0      1            5.0           3.0            1.5           0.2   \n",
      "1      2            NaN           NaN            NaN           NaN   \n",
      "2      3            NaN           NaN            NaN           NaN   \n",
      "3      4            NaN           NaN            NaN           NaN   \n",
      "4      5            NaN           NaN            NaN           NaN   \n",
      "..   ...            ...           ...            ...           ...   \n",
      "145  146            NaN           NaN            NaN           NaN   \n",
      "146  147            NaN           NaN            NaN           NaN   \n",
      "147  148            NaN           NaN            NaN           NaN   \n",
      "148  149            NaN           NaN            NaN           NaN   \n",
      "149  150            NaN           NaN            NaN           NaN   \n",
      "\n",
      "             Species  \n",
      "0        Iris-setosa  \n",
      "1    Iris-versicolor  \n",
      "2     Iris-virginica  \n",
      "3                NaN  \n",
      "4                NaN  \n",
      "..               ...  \n",
      "145              NaN  \n",
      "146              NaN  \n",
      "147              NaN  \n",
      "148              NaN  \n",
      "149              NaN  \n",
      "\n",
      "[150 rows x 6 columns]\n"
     ]
    },
    {
     "name": "stderr",
     "output_type": "stream",
     "text": [
      "C:\\Users\\asus\\AppData\\Local\\Temp\\ipykernel_5660\\3302441586.py:2: FutureWarning: The default value of numeric_only in DataFrame.mean is deprecated. In a future version, it will default to False. In addition, specifying 'numeric_only=None' is deprecated. Select only valid columns or specify the value of numeric_only to silence this warning.\n",
      "  x=df.mean()\n",
      "C:\\Users\\asus\\AppData\\Local\\Temp\\ipykernel_5660\\3302441586.py:4: FutureWarning: The default value of numeric_only in DataFrame.median is deprecated. In a future version, it will default to False. In addition, specifying 'numeric_only=None' is deprecated. Select only valid columns or specify the value of numeric_only to silence this warning.\n",
      "  y=df.median()\n"
     ]
    }
   ],
   "source": [
    "df=pd.read_csv('Iris.csv')\n",
    "x=df.mean()\n",
    "print(\"The Mean is:\\n\",x)\n",
    "y=df.median()\n",
    "print(\"The Median is:\\n\",y)\n",
    "z=df.mode()\n",
    "print(\"The Mode is:\\n\",z)"
   ]
  },
  {
   "cell_type": "code",
   "execution_count": 10,
   "id": "d74628b4",
   "metadata": {},
   "outputs": [],
   "source": [
    "import csv"
   ]
  },
  {
   "cell_type": "code",
   "execution_count": 11,
   "id": "1af83cdc",
   "metadata": {},
   "outputs": [
    {
     "ename": "SyntaxError",
     "evalue": "invalid non-printable character U+00A0 (2017208044.py, line 8)",
     "output_type": "error",
     "traceback": [
      "\u001b[1;36m  Cell \u001b[1;32mIn[11], line 8\u001b[1;36m\u001b[0m\n\u001b[1;33m    return data\u001b[0m\n\u001b[1;37m    ^\u001b[0m\n\u001b[1;31mSyntaxError\u001b[0m\u001b[1;31m:\u001b[0m invalid non-printable character U+00A0\n"
     ]
    }
   ],
   "source": [
    "def read_iris_data(file_path):\n",
    "    data = []\n",
    "    with open(file_path, 'r') as file:\n",
    "        csv_reader = csv.reader(file)\n",
    "        next(csv_reader) \n",
    "        for row in csv_reader:\n",
    "            data.append(float(row[0]))\n",
    "    return data"
   ]
  },
  {
   "cell_type": "code",
   "execution_count": 12,
   "id": "41d35ee8",
   "metadata": {},
   "outputs": [
    {
     "ename": "SyntaxError",
     "evalue": "invalid non-printable character U+00A0 (3189417879.py, line 2)",
     "output_type": "error",
     "traceback": [
      "\u001b[1;36m  Cell \u001b[1;32mIn[12], line 2\u001b[1;36m\u001b[0m\n\u001b[1;33m    return sum(data) / len(data)\u001b[0m\n\u001b[1;37m                      ^\u001b[0m\n\u001b[1;31mSyntaxError\u001b[0m\u001b[1;31m:\u001b[0m invalid non-printable character U+00A0\n"
     ]
    }
   ],
   "source": [
    "def calculate_mean(data):\n",
    "    return sum(data) / len(data)"
   ]
  },
  {
   "cell_type": "code",
   "execution_count": 13,
   "id": "227976a2",
   "metadata": {},
   "outputs": [],
   "source": [
    "def calculate_median(data):\n",
    "    sorted_data = sorted(data)\n",
    "    n = len(sorted_data)\n",
    "    if n % 2 == 0:\n",
    "        return (sorted_data[n//2 - 1] + sorted_data[n//2]) / 2\n",
    "    else:\n",
    "        return sorted_data[n//2]"
   ]
  },
  {
   "cell_type": "code",
   "execution_count": 10,
   "id": "7e58fbec",
   "metadata": {},
   "outputs": [
    {
     "ename": "SyntaxError",
     "evalue": "invalid non-printable character U+00A0 (1072237790.py, line 6)",
     "output_type": "error",
     "traceback": [
      "\u001b[1;36m  Cell \u001b[1;32mIn[10], line 6\u001b[1;36m\u001b[0m\n\u001b[1;33m    return mode\u001b[0m\n\u001b[1;37m    ^\u001b[0m\n\u001b[1;31mSyntaxError\u001b[0m\u001b[1;31m:\u001b[0m invalid non-printable character U+00A0\n"
     ]
    }
   ],
   "source": [
    "def calculate_mode(data):\n",
    "    frequency = {}\n",
    "    for item in data:\n",
    "        frequency[item] = frequency.get(item, 0) + 1\n",
    "    mode = max(frequency, key=frequency.get)\n",
    "    return mode"
   ]
  },
  {
   "cell_type": "code",
   "execution_count": 11,
   "id": "c7c526e0",
   "metadata": {},
   "outputs": [
    {
     "ename": "SyntaxError",
     "evalue": "invalid non-printable character U+00A0 (871442015.py, line 9)",
     "output_type": "error",
     "traceback": [
      "\u001b[1;36m  Cell \u001b[1;32mIn[11], line 9\u001b[1;36m\u001b[0m\n\u001b[1;33m    print(\"Mode:\", mode)\u001b[0m\n\u001b[1;37m                  ^\u001b[0m\n\u001b[1;31mSyntaxError\u001b[0m\u001b[1;31m:\u001b[0m invalid non-printable character U+00A0\n"
     ]
    }
   ],
   "source": [
    "if _name_ == \"_main_\":\n",
    "    file_path = \"Iris.csv\" \n",
    "    data = read_iris_data(file_path)\n",
    "    mean = calculate_mean(data)\n",
    "    median = calculate_median(data)\n",
    "    mode = calculate_mode(data)\n",
    "    print(\"Mean:\", mean)\n",
    "    print(\"Median:\", median)\n",
    "    print(\"Mode:\", mode)"
   ]
  },
  {
   "cell_type": "code",
   "execution_count": 12,
   "id": "1f69fa56",
   "metadata": {},
   "outputs": [
    {
     "name": "stdout",
     "output_type": "stream",
     "text": [
      "Enter the number of elements in the dataset: 5\n",
      "Enter element 1: 12\n",
      "Enter element 2: 14\n",
      "Enter element 3: 15\n",
      "Enter element 4: 16\n",
      "Enter element 5: 23\n",
      "Variance: 14.0\n",
      "Standard Deviation: 3.7416573867739413\n"
     ]
    }
   ],
   "source": [
    "data = []\n",
    "n= int(input(\"Enter the number of elements in the dataset: \"))\n",
    "for i in range(n):\n",
    "    element = float(input(f\"Enter element {i+1}: \"))\n",
    "    data.append(element)\n",
    "mean = sum(data) / len(data)\n",
    "variance = sum((x - mean) ** 2 for x in data) / len(data)\n",
    "standard_deviation = variance ** 0.5\n",
    "print(\"Variance:\", variance)\n",
    "print(\"Standard Deviation:\", standard_deviation)"
   ]
  },
  {
   "cell_type": "code",
   "execution_count": 13,
   "id": "beecd22e",
   "metadata": {},
   "outputs": [
    {
     "ename": "SyntaxError",
     "evalue": "invalid non-printable character U+00A0 (1529867796.py, line 6)",
     "output_type": "error",
     "traceback": [
      "\u001b[1;36m  Cell \u001b[1;32mIn[13], line 6\u001b[1;36m\u001b[0m\n\u001b[1;33m    print(\"List of numbers:\", numbers_list)\u001b[0m\n\u001b[1;37m                             ^\u001b[0m\n\u001b[1;31mSyntaxError\u001b[0m\u001b[1;31m:\u001b[0m invalid non-printable character U+00A0\n"
     ]
    }
   ],
   "source": [
    "numbers_list = []\n",
    "num_elements = int(input(\"Enter the number of elements in the list: \"))\n",
    "for i in range(num_elements):\n",
    "    num = int(input(f\"Enter number {i+1}: \"))\n",
    "    numbers_list.append(num)\n",
    "print(\"List of numbers:\", numbers_list)"
   ]
  },
  {
   "cell_type": "code",
   "execution_count": 14,
   "id": "306321d7",
   "metadata": {},
   "outputs": [
    {
     "name": "stdout",
     "output_type": "stream",
     "text": [
      "Enter your name: harsh kumar\n",
      "Enter your age: 19\n",
      "Your name and age: ('harsh kumar', 19)\n"
     ]
    }
   ],
   "source": [
    "name = input(\"Enter your name: \")\n",
    "age = int(input(\"Enter your age: \"))\n",
    "coordinates_tuple = (name, age)\n",
    "print(\"Your name and age:\", coordinates_tuple)"
   ]
  },
  {
   "cell_type": "code",
   "execution_count": 15,
   "id": "9889e30c",
   "metadata": {},
   "outputs": [
    {
     "ename": "SyntaxError",
     "evalue": "invalid non-printable character U+00A0 (1748896170.py, line 5)",
     "output_type": "error",
     "traceback": [
      "\u001b[1;36m  Cell \u001b[1;32mIn[15], line 5\u001b[1;36m\u001b[0m\n\u001b[1;33m    print(\"Student details:\", student_dict)\u001b[0m\n\u001b[1;37m                             ^\u001b[0m\n\u001b[1;31mSyntaxError\u001b[0m\u001b[1;31m:\u001b[0m invalid non-printable character U+00A0\n"
     ]
    }
   ],
   "source": [
    "student_dict = {}\n",
    "student_dict['name'] = input(\"Enter student's name: \")\n",
    "student_dict['age'] = int(input(\"Enter student's age: \"))\n",
    "student_dict['gender'] = input(\"Enter student's gender: \")\n",
    "print(\"Student details:\", student_dict)"
   ]
  },
  {
   "cell_type": "code",
   "execution_count": 16,
   "id": "d352e9bd",
   "metadata": {},
   "outputs": [
    {
     "ename": "SyntaxError",
     "evalue": "invalid non-printable character U+00A0 (3119470135.py, line 2)",
     "output_type": "error",
     "traceback": [
      "\u001b[1;36m  Cell \u001b[1;32mIn[16], line 2\u001b[1;36m\u001b[0m\n\u001b[1;33m    print(\"Your sentence:\", sentence)\u001b[0m\n\u001b[1;37m                           ^\u001b[0m\n\u001b[1;31mSyntaxError\u001b[0m\u001b[1;31m:\u001b[0m invalid non-printable character U+00A0\n"
     ]
    }
   ],
   "source": [
    "sentence = input(\"Enter a sentence: \")\n",
    "print(\"Your sentence:\", sentence)"
   ]
  },
  {
   "cell_type": "code",
   "execution_count": null,
   "id": "c822a410",
   "metadata": {},
   "outputs": [],
   "source": []
  }
 ],
 "metadata": {
  "kernelspec": {
   "display_name": "Python 3 (ipykernel)",
   "language": "python",
   "name": "python3"
  },
  "language_info": {
   "codemirror_mode": {
    "name": "ipython",
    "version": 3
   },
   "file_extension": ".py",
   "mimetype": "text/x-python",
   "name": "python",
   "nbconvert_exporter": "python",
   "pygments_lexer": "ipython3",
   "version": "3.11.3"
  }
 },
 "nbformat": 4,
 "nbformat_minor": 5
}
